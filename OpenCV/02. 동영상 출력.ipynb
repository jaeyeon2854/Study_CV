{
 "cells": [
  {
   "cell_type": "markdown",
   "id": "8389d219",
   "metadata": {},
   "source": [
    "# 2. 동영상 출력"
   ]
  },
  {
   "cell_type": "markdown",
   "id": "5a19cc2e",
   "metadata": {},
   "source": [
    "## 동영상 파일 출력"
   ]
  },
  {
   "cell_type": "code",
   "execution_count": 7,
   "id": "d2ffd335",
   "metadata": {},
   "outputs": [
    {
     "name": "stdout",
     "output_type": "stream",
     "text": [
      "사용자 입력에 의해 종료합니다.\n"
     ]
    },
    {
     "data": {
      "text/plain": [
       "-1"
      ]
     },
     "execution_count": 7,
     "metadata": {},
     "output_type": "execute_result"
    }
   ],
   "source": [
    "import cv2\n",
    "cap = cv2.VideoCapture('video.mp4')\n",
    "\n",
    "while cap.isOpened(): #동영상 파일이 올바로 열렸는지?\n",
    "    ret, frame = cap.read() # ret : 성공여부 , frame : 받아온 이미지\n",
    "    if not ret:\n",
    "        print('더 이상 가져올 프레임이 없어요')\n",
    "        break\n",
    "        \n",
    "    cv2.imshow('cat',frame)\n",
    "\n",
    "    if cv2.waitKey(1) == ord('q'): # 키값이 아스키코드 q와 같으면 창이 꺼짐\n",
    "        print('사용자 입력에 의해 종료합니다.') \n",
    "        break\n",
    "    \n",
    "cap.release() # 자원 해제\n",
    "cv2.destroyAllWindows() # 모든 창 닫기\n",
    "cv2.waitKey(1)"
   ]
  },
  {
   "cell_type": "markdown",
   "id": "322864b5",
   "metadata": {},
   "source": [
    "# 카메라 출력"
   ]
  },
  {
   "cell_type": "code",
   "execution_count": 1,
   "id": "113d7e7b",
   "metadata": {},
   "outputs": [
    {
     "data": {
      "text/plain": [
       "-1"
      ]
     },
     "execution_count": 1,
     "metadata": {},
     "output_type": "execute_result"
    }
   ],
   "source": [
    "import cv2\n",
    "cap = cv2.VideoCapture(0) #0번째 카메라 장치 (Device ID)\n",
    "\n",
    "if not cap.isOpened(): #카메랴가 열리지 않은 경우\n",
    "    exit() #프로그램 종료\n",
    "    \n",
    "while True: #무한반복\n",
    "    ret , frame = cap.read()\n",
    "    if not ret:\n",
    "        break\n",
    "        \n",
    "    cv2. imshow('camera',frame)\n",
    "    if cv2.waitKey(1) == ord('q'): #사용자가 q를 입력하면 종료\n",
    "        break\n",
    "        \n",
    "cap.release()\n",
    "cv2.destroyAllWindows() # 모든 창 닫기\n",
    "cv2.waitKey(1)"
   ]
  }
 ],
 "metadata": {
  "kernelspec": {
   "display_name": "STUDY",
   "language": "python",
   "name": "study"
  },
  "language_info": {
   "codemirror_mode": {
    "name": "ipython",
    "version": 3
   },
   "file_extension": ".py",
   "mimetype": "text/x-python",
   "name": "python",
   "nbconvert_exporter": "python",
   "pygments_lexer": "ipython3",
   "version": "3.7.16"
  }
 },
 "nbformat": 4,
 "nbformat_minor": 5
}
